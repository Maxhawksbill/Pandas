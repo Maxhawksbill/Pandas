{
 "cells": [
  {
   "metadata": {},
   "cell_type": "markdown",
   "source": "Importing libraries",
   "id": "4c9ccae1c6008c55"
  },
  {
   "metadata": {
    "ExecuteTime": {
     "end_time": "2024-05-23T11:27:12.631284Z",
     "start_time": "2024-05-23T11:27:12.628185Z"
    }
   },
   "cell_type": "code",
   "source": [
    "import pandas as pd\n",
    "from faker import Faker\n",
    "import folium\n",
    "from collections import Counter"
   ],
   "id": "8dbff1a2eb430e1f",
   "outputs": [],
   "execution_count": 240
  },
  {
   "metadata": {},
   "cell_type": "markdown",
   "source": "# Initialize Faker",
   "id": "fa61b57730e841a3"
  },
  {
   "metadata": {
    "ExecuteTime": {
     "end_time": "2024-05-23T11:27:12.699017Z",
     "start_time": "2024-05-23T11:27:12.658942Z"
    }
   },
   "cell_type": "code",
   "source": "fake = Faker()",
   "id": "b4240504c70701e2",
   "outputs": [],
   "execution_count": 241
  },
  {
   "metadata": {},
   "cell_type": "markdown",
   "source": "# Generate the first DataFrame",
   "id": "67787f13b7c1528c"
  },
  {
   "metadata": {
    "ExecuteTime": {
     "end_time": "2024-05-23T11:27:12.728578Z",
     "start_time": "2024-05-23T11:27:12.700040Z"
    }
   },
   "cell_type": "code",
   "source": [
    "data1 = {\n",
    "    'name': [fake.name() for _ in range(100)],\n",
    "    'address': [fake.address() for _ in range(100)],\n",
    "    'latitude': [fake.latitude() for _ in range(100)],\n",
    "    'longitude': [fake.longitude() for _ in range(100)],\n",
    "    'age': [fake.random_int(min=18, max=80) for _ in range(100)]\n",
    "}"
   ],
   "id": "8b6bae0e8ca6c337",
   "outputs": [],
   "execution_count": 242
  },
  {
   "metadata": {
    "ExecuteTime": {
     "end_time": "2024-05-23T11:27:12.737035Z",
     "start_time": "2024-05-23T11:27:12.729600Z"
    }
   },
   "cell_type": "code",
   "source": [
    "df1 = pd.DataFrame(data1)\n",
    "df1.to_json('data1.json')"
   ],
   "id": "ae69fc00fdc1bb2d",
   "outputs": [],
   "execution_count": 243
  },
  {
   "metadata": {},
   "cell_type": "markdown",
   "source": "# Generate the second DataFrame",
   "id": "c464ace5050477b0"
  },
  {
   "metadata": {
    "ExecuteTime": {
     "end_time": "2024-05-23T11:27:12.758021Z",
     "start_time": "2024-05-23T11:27:12.739621Z"
    }
   },
   "cell_type": "code",
   "source": [
    "data2 = {\n",
    "    'name': [fake.name() for _ in range(100)],\n",
    "    'visit_date': [fake.date_this_year() for _ in range(100)],\n",
    "    'latitude': [fake.latitude() for _ in range(100)],\n",
    "    'longitude': [fake.longitude() for _ in range(100)]\n",
    "}"
   ],
   "id": "2c68a81abeb22907",
   "outputs": [],
   "execution_count": 244
  },
  {
   "metadata": {
    "ExecuteTime": {
     "end_time": "2024-05-23T11:27:12.767182Z",
     "start_time": "2024-05-23T11:27:12.759028Z"
    }
   },
   "cell_type": "code",
   "source": [
    "df2 = pd.DataFrame(data2)\n",
    "df2.to_json('data2.json')"
   ],
   "id": "95882a3c3b9821ce",
   "outputs": [],
   "execution_count": 245
  },
  {
   "metadata": {},
   "cell_type": "markdown",
   "source": "# Merge DataFrames on 'name'",
   "id": "fc8e16afa6116c98"
  },
  {
   "metadata": {
    "ExecuteTime": {
     "end_time": "2024-05-23T11:27:12.775374Z",
     "start_time": "2024-05-23T11:27:12.768193Z"
    }
   },
   "cell_type": "code",
   "source": [
    "merged_df = pd.merge(df1, df2, on='name')\n",
    "merged_df.to_json('data_merged.json')"
   ],
   "id": "127650fb6ca5f81",
   "outputs": [],
   "execution_count": 246
  },
  {
   "metadata": {},
   "cell_type": "markdown",
   "source": "# Calculate the average age of the tourists",
   "id": "2c5d117d1606b459"
  },
  {
   "metadata": {
    "ExecuteTime": {
     "end_time": "2024-05-23T11:27:12.781239Z",
     "start_time": "2024-05-23T11:27:12.776392Z"
    }
   },
   "cell_type": "code",
   "source": [
    "average_age = merged_df['age'].mean()\n",
    "average_age"
   ],
   "id": "d4e667049191a1fb",
   "outputs": [
    {
     "data": {
      "text/plain": [
       "55.0"
      ]
     },
     "execution_count": 247,
     "metadata": {},
     "output_type": "execute_result"
    }
   ],
   "execution_count": 247
  },
  {
   "metadata": {},
   "cell_type": "markdown",
   "source": "# Determine the most common locations visited by the tourists",
   "id": "4fad05d689220659"
  },
  {
   "metadata": {
    "ExecuteTime": {
     "end_time": "2024-05-23T11:27:12.793313Z",
     "start_time": "2024-05-23T11:27:12.782258Z"
    }
   },
   "cell_type": "code",
   "source": [
    "# locations = list(zip(merged_df['latitude_y'], merged_df['longitude_y']))\n",
    "# common_locations = Counter(locations).most_common(5)\n",
    "\n",
    "location_counts = merged_df.groupby(['latitude_y', 'longitude_y']).size().reset_index(name='count')\n",
    "common_locations = location_counts.nlargest(5, 'count')\n",
    "\n",
    "common_locations"
   ],
   "id": "71b2659dc99d3ada",
   "outputs": [
    {
     "data": {
      "text/plain": [
       "  latitude_y longitude_y  count\n",
       "0  35.538992  171.163906      1"
      ],
      "text/html": [
       "<div>\n",
       "<style scoped>\n",
       "    .dataframe tbody tr th:only-of-type {\n",
       "        vertical-align: middle;\n",
       "    }\n",
       "\n",
       "    .dataframe tbody tr th {\n",
       "        vertical-align: top;\n",
       "    }\n",
       "\n",
       "    .dataframe thead th {\n",
       "        text-align: right;\n",
       "    }\n",
       "</style>\n",
       "<table border=\"1\" class=\"dataframe\">\n",
       "  <thead>\n",
       "    <tr style=\"text-align: right;\">\n",
       "      <th></th>\n",
       "      <th>latitude_y</th>\n",
       "      <th>longitude_y</th>\n",
       "      <th>count</th>\n",
       "    </tr>\n",
       "  </thead>\n",
       "  <tbody>\n",
       "    <tr>\n",
       "      <th>0</th>\n",
       "      <td>35.538992</td>\n",
       "      <td>171.163906</td>\n",
       "      <td>1</td>\n",
       "    </tr>\n",
       "  </tbody>\n",
       "</table>\n",
       "</div>"
      ]
     },
     "execution_count": 248,
     "metadata": {},
     "output_type": "execute_result"
    }
   ],
   "execution_count": 248
  },
  {
   "metadata": {},
   "cell_type": "markdown",
   "source": "# Plotting the map using Folium",
   "id": "1bbe226d3455f376"
  },
  {
   "metadata": {
    "ExecuteTime": {
     "end_time": "2024-05-23T11:27:12.802290Z",
     "start_time": "2024-05-23T11:27:12.794337Z"
    }
   },
   "cell_type": "code",
   "source": "map_tourists = folium.Map(location=[0, 0], zoom_start=2)",
   "id": "cc74aa997b4f749d",
   "outputs": [],
   "execution_count": 249
  },
  {
   "metadata": {},
   "cell_type": "markdown",
   "source": "# Highlight the top 5 most visited locations with markers",
   "id": "ccc3d57b48c6148e"
  },
  {
   "metadata": {
    "ExecuteTime": {
     "end_time": "2024-05-23T11:27:12.810097Z",
     "start_time": "2024-05-23T11:27:12.804323Z"
    }
   },
   "cell_type": "code",
   "source": [
    "# for location, count in common_locations:\n",
    "#     folium.Marker(\n",
    "#         location=location,\n",
    "#         popup=f\"Visits: {count}\",\n",
    "#         icon=folium.Icon(color='red')\n",
    "#     ).add_to(map_tourists)\n",
    "    \n",
    "for _, row in common_locations.iterrows():\n",
    "    location = (row['latitude_y'], row['longitude_y'])\n",
    "    count = row['count']\n",
    "    folium.Marker(\n",
    "        location=location,\n",
    "        popup=f\"Visits: {count}\",\n",
    "        icon=folium.Icon(color='red')\n",
    "    ).add_to(map_tourists)"
   ],
   "id": "6fb8cb2cf3088bea",
   "outputs": [],
   "execution_count": 250
  },
  {
   "metadata": {},
   "cell_type": "markdown",
   "source": "# Save map to an HTML file",
   "id": "21794eaac4a53f23"
  },
  {
   "metadata": {
    "ExecuteTime": {
     "end_time": "2024-05-23T11:27:12.823172Z",
     "start_time": "2024-05-23T11:27:12.811107Z"
    }
   },
   "cell_type": "code",
   "source": [
    "map_tourists.save(\"tourist_map.html\")\n",
    "\n",
    "average_age, common_locations, \"tourist_map.html\""
   ],
   "id": "32c9a5982ae93a25",
   "outputs": [
    {
     "data": {
      "text/plain": [
       "(55.0,\n",
       "   latitude_y longitude_y  count\n",
       " 0  35.538992  171.163906      1,\n",
       " 'tourist_map.html')"
      ]
     },
     "execution_count": 251,
     "metadata": {},
     "output_type": "execute_result"
    }
   ],
   "execution_count": 251
  },
  {
   "metadata": {
    "ExecuteTime": {
     "end_time": "2024-05-23T11:27:12.826703Z",
     "start_time": "2024-05-23T11:27:12.824180Z"
    }
   },
   "cell_type": "code",
   "source": "",
   "id": "bd45544786750ff7",
   "outputs": [],
   "execution_count": 251
  }
 ],
 "metadata": {
  "kernelspec": {
   "display_name": "Python 3",
   "language": "python",
   "name": "python3"
  },
  "language_info": {
   "codemirror_mode": {
    "name": "ipython",
    "version": 2
   },
   "file_extension": ".py",
   "mimetype": "text/x-python",
   "name": "python",
   "nbconvert_exporter": "python",
   "pygments_lexer": "ipython2",
   "version": "2.7.6"
  }
 },
 "nbformat": 4,
 "nbformat_minor": 5
}
