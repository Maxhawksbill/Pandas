{
 "cells": [
  {
   "metadata": {},
   "cell_type": "markdown",
   "source": "Importing libraries",
   "id": "4c9ccae1c6008c55"
  },
  {
   "metadata": {
    "ExecuteTime": {
     "end_time": "2024-05-21T16:11:10.056475Z",
     "start_time": "2024-05-21T16:11:10.052931Z"
    }
   },
   "cell_type": "code",
   "source": [
    "import pandas as pd\n",
    "from faker import Faker\n",
    "import folium\n",
    "from collections import Counter"
   ],
   "id": "8dbff1a2eb430e1f",
   "outputs": [],
   "execution_count": 23
  },
  {
   "metadata": {},
   "cell_type": "markdown",
   "source": "# Initialize Faker",
   "id": "fa61b57730e841a3"
  },
  {
   "metadata": {
    "ExecuteTime": {
     "end_time": "2024-05-21T16:11:10.133613Z",
     "start_time": "2024-05-21T16:11:10.090125Z"
    }
   },
   "cell_type": "code",
   "source": "fake = Faker()",
   "id": "b4240504c70701e2",
   "outputs": [],
   "execution_count": 24
  },
  {
   "metadata": {},
   "cell_type": "markdown",
   "source": "# Generate the first DataFrame",
   "id": "67787f13b7c1528c"
  },
  {
   "metadata": {
    "ExecuteTime": {
     "end_time": "2024-05-21T16:11:10.166703Z",
     "start_time": "2024-05-21T16:11:10.134614Z"
    }
   },
   "cell_type": "code",
   "source": [
    "data1 = {\n",
    "    'name': [fake.name() for _ in range(100)],\n",
    "    'address': [fake.address() for _ in range(100)],\n",
    "    'latitude': [fake.latitude() for _ in range(100)],\n",
    "    'longitude': [fake.longitude() for _ in range(100)],\n",
    "    'age': [fake.random_int(min=18, max=80) for _ in range(100)]\n",
    "}"
   ],
   "id": "8b6bae0e8ca6c337",
   "outputs": [],
   "execution_count": 25
  },
  {
   "metadata": {
    "ExecuteTime": {
     "end_time": "2024-05-21T16:11:10.174335Z",
     "start_time": "2024-05-21T16:11:10.167706Z"
    }
   },
   "cell_type": "code",
   "source": [
    "df1 = pd.DataFrame(data1)\n",
    "df1.to_json('data1.json')"
   ],
   "id": "ae69fc00fdc1bb2d",
   "outputs": [],
   "execution_count": 26
  },
  {
   "metadata": {},
   "cell_type": "markdown",
   "source": "# Generate the second DataFrame",
   "id": "c464ace5050477b0"
  },
  {
   "metadata": {
    "ExecuteTime": {
     "end_time": "2024-05-21T16:11:10.195648Z",
     "start_time": "2024-05-21T16:11:10.176335Z"
    }
   },
   "cell_type": "code",
   "source": [
    "data2 = {\n",
    "    'name': [fake.name() for _ in range(100)],\n",
    "    'visit_date': [fake.date_this_year() for _ in range(100)],\n",
    "    'latitude': [fake.latitude() for _ in range(100)],\n",
    "    'longitude': [fake.longitude() for _ in range(100)]\n",
    "}"
   ],
   "id": "2c68a81abeb22907",
   "outputs": [],
   "execution_count": 27
  },
  {
   "metadata": {
    "ExecuteTime": {
     "end_time": "2024-05-21T16:11:10.201020Z",
     "start_time": "2024-05-21T16:11:10.195648Z"
    }
   },
   "cell_type": "code",
   "source": [
    "df2 = pd.DataFrame(data2)\n",
    "df2.to_json('data2.json')"
   ],
   "id": "95882a3c3b9821ce",
   "outputs": [],
   "execution_count": 28
  },
  {
   "metadata": {},
   "cell_type": "markdown",
   "source": "# Merge DataFrames on 'name'",
   "id": "fc8e16afa6116c98"
  },
  {
   "metadata": {
    "ExecuteTime": {
     "end_time": "2024-05-21T16:11:10.211187Z",
     "start_time": "2024-05-21T16:11:10.201973Z"
    }
   },
   "cell_type": "code",
   "source": [
    "merged_df = pd.merge(df1, df2, on='name')\n",
    "merged_df.to_json('data_merged.json')"
   ],
   "id": "127650fb6ca5f81",
   "outputs": [],
   "execution_count": 29
  },
  {
   "metadata": {},
   "cell_type": "markdown",
   "source": "# Calculate the average age of the tourists",
   "id": "2c5d117d1606b459"
  },
  {
   "metadata": {
    "ExecuteTime": {
     "end_time": "2024-05-21T16:11:10.217252Z",
     "start_time": "2024-05-21T16:11:10.212183Z"
    }
   },
   "cell_type": "code",
   "source": [
    "average_age = merged_df['age'].mean()\n",
    "average_age"
   ],
   "id": "d4e667049191a1fb",
   "outputs": [
    {
     "data": {
      "text/plain": [
       "48.0"
      ]
     },
     "execution_count": 30,
     "metadata": {},
     "output_type": "execute_result"
    }
   ],
   "execution_count": 30
  },
  {
   "metadata": {},
   "cell_type": "markdown",
   "source": "# Determine the most common locations visited by the tourists",
   "id": "4fad05d689220659"
  },
  {
   "metadata": {
    "ExecuteTime": {
     "end_time": "2024-05-21T16:11:10.223380Z",
     "start_time": "2024-05-21T16:11:10.217759Z"
    }
   },
   "cell_type": "code",
   "source": [
    "locations = list(zip(merged_df['latitude_y'], merged_df['longitude_y']))\n",
    "common_locations = Counter(locations).most_common(5)\n",
    "common_locations"
   ],
   "id": "71b2659dc99d3ada",
   "outputs": [
    {
     "data": {
      "text/plain": [
       "[((Decimal('-32.4443785'), Decimal('-103.887181')), 1)]"
      ]
     },
     "execution_count": 31,
     "metadata": {},
     "output_type": "execute_result"
    }
   ],
   "execution_count": 31
  },
  {
   "metadata": {},
   "cell_type": "markdown",
   "source": "# Plotting the map using Folium",
   "id": "1bbe226d3455f376"
  },
  {
   "metadata": {
    "ExecuteTime": {
     "end_time": "2024-05-21T16:11:10.231178Z",
     "start_time": "2024-05-21T16:11:10.224478Z"
    }
   },
   "cell_type": "code",
   "source": "map_tourists = folium.Map(location=[0, 0], zoom_start=2)",
   "id": "cc74aa997b4f749d",
   "outputs": [],
   "execution_count": 32
  },
  {
   "metadata": {},
   "cell_type": "markdown",
   "source": "# Highlight the top 5 most visited locations with markers",
   "id": "ccc3d57b48c6148e"
  },
  {
   "metadata": {
    "ExecuteTime": {
     "end_time": "2024-05-21T16:11:10.237412Z",
     "start_time": "2024-05-21T16:11:10.232178Z"
    }
   },
   "cell_type": "code",
   "source": [
    "for location, count in common_locations:\n",
    "    folium.Marker(\n",
    "        location=location,\n",
    "        popup=f\"Visits: {count}\",\n",
    "        icon=folium.Icon(color='red')\n",
    "    ).add_to(map_tourists)"
   ],
   "id": "6fb8cb2cf3088bea",
   "outputs": [],
   "execution_count": 33
  },
  {
   "metadata": {},
   "cell_type": "markdown",
   "source": "# Save map to an HTML file",
   "id": "21794eaac4a53f23"
  },
  {
   "metadata": {
    "ExecuteTime": {
     "end_time": "2024-05-21T16:11:10.246590Z",
     "start_time": "2024-05-21T16:11:10.238400Z"
    }
   },
   "cell_type": "code",
   "source": [
    "map_tourists.save(\"tourist_map.html\")\n",
    "\n",
    "average_age, common_locations, \"tourist_map.html\""
   ],
   "id": "32c9a5982ae93a25",
   "outputs": [
    {
     "data": {
      "text/plain": [
       "(48.0,\n",
       " [((Decimal('-32.4443785'), Decimal('-103.887181')), 1)],\n",
       " 'tourist_map.html')"
      ]
     },
     "execution_count": 34,
     "metadata": {},
     "output_type": "execute_result"
    }
   ],
   "execution_count": 34
  },
  {
   "metadata": {
    "ExecuteTime": {
     "end_time": "2024-05-21T16:11:10.250040Z",
     "start_time": "2024-05-21T16:11:10.248008Z"
    }
   },
   "cell_type": "code",
   "source": "",
   "id": "bd45544786750ff7",
   "outputs": [],
   "execution_count": 34
  }
 ],
 "metadata": {
  "kernelspec": {
   "display_name": "Python 3",
   "language": "python",
   "name": "python3"
  },
  "language_info": {
   "codemirror_mode": {
    "name": "ipython",
    "version": 2
   },
   "file_extension": ".py",
   "mimetype": "text/x-python",
   "name": "python",
   "nbconvert_exporter": "python",
   "pygments_lexer": "ipython2",
   "version": "2.7.6"
  }
 },
 "nbformat": 4,
 "nbformat_minor": 5
}
